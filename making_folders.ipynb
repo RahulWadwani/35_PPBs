{
 "cells": [
  {
   "cell_type": "code",
   "execution_count": 8,
   "id": "20c212f2-2272-4950-94bc-3dcfd473ccfd",
   "metadata": {},
   "outputs": [
    {
     "name": "stdin",
     "output_type": "stream",
     "text": [
      "Enter 35 folder names separated by commas:  Website Checker,Step Counter,Text Formatter, Character Type Checker, Grade Calculator, Word Scrambler, Music Recommender, Random Name Generator, Reverse Name, Vowel Counter, Coin Flip Game, Recipe Generator, Color Mixer, Guess The Word, Guess The Number, Countdown Timer, Calculator, Related Word Game, Memory Sequence Game, Rock Paper Scissors, Task Manager, Simple Chatbot, Word Counter,Currency Converter, Password Generator, Personal Finance Tracker, Quiz Game, Pomodoro Timer, Adventure Game, Tkinter Basics (Hello World App), Simple Calculator with Tkinter, Task Manager with Tkinter, Drawing App with Tkinter, Realtime Chat App, Contact Book Web App\n"
     ]
    },
    {
     "name": "stdout",
     "output_type": "stream",
     "text": [
      "✅ All numbered folders with main.py files created.\n"
     ]
    }
   ],
   "source": [
    "import os\n",
    "\n",
    "def create_numbered_folders_with_main(folder_names):\n",
    "    starter_code = '''\"\"\"\n",
    "main.py - Starter script\n",
    "\"\"\"\n",
    "\n",
    "def main():\n",
    "    print(\"This is the main script.\")\n",
    "\n",
    "if __name__ == \"__main__\":\n",
    "    main()\n",
    "'''\n",
    "    for i, name in enumerate(folder_names, start=1):\n",
    "        folder_name = f\"{i}.{name.strip()}\"\n",
    "        os.makedirs(folder_name, exist_ok=True)\n",
    "        file_path = os.path.join(folder_name, \"main.py\")\n",
    "        with open(file_path, \"w\") as f:\n",
    "            f.write(starter_code)\n",
    "    print(\"✅ All numbered folders with main.py files created.\")\n",
    "\n",
    "if __name__ == \"__main__\":\n",
    "    folder_input = input(\"Enter 35 folder names separated by commas: \")\n",
    "    folder_list = folder_input.split(',')\n",
    "\n",
    "    if len(folder_list) != 35:\n",
    "        print(f\"❌ You entered {len(folder_list)} names. Please enter exactly 35.\")\n",
    "    else:\n",
    "        create_numbered_folders_with_main(folder_list)\n"
   ]
  },
  {
   "cell_type": "code",
   "execution_count": null,
   "id": "19a49395-9ee1-4257-8582-d8cb36bcef1c",
   "metadata": {},
   "outputs": [],
   "source": [
    "Website Checker,Step Counter,Text Formatter, Character Type Checker, Grade Calculator, Word Scrambler, Music Recommender, Random Name Generator, Reverse Name, Vowel Counter, Coin Flip Game, Recipe Generator, Color Mixer, Guess The Word, Guess The Number, Countdown Timer, Calculator, Related Word Game, Memory Sequence Game, Rock Paper Scissors, Task Manager, Simple Chatbot, Word Counter,Currency Converter, Password Generator, Personal Finance Tracker, Quiz Game, Pomodoro Timer, Adventure Game, Tkinter Basics (Hello World App), Simple Calculator with Tkinter, Task Manager with Tkinter, Drawing App with Tkinter, Realtime Chat App, Contact Book Web App"
   ]
  }
 ],
 "metadata": {
  "kernelspec": {
   "display_name": "Python 3 (ipykernel)",
   "language": "python",
   "name": "python3"
  },
  "language_info": {
   "codemirror_mode": {
    "name": "ipython",
    "version": 3
   },
   "file_extension": ".py",
   "mimetype": "text/x-python",
   "name": "python",
   "nbconvert_exporter": "python",
   "pygments_lexer": "ipython3",
   "version": "3.12.1"
  }
 },
 "nbformat": 4,
 "nbformat_minor": 5
}

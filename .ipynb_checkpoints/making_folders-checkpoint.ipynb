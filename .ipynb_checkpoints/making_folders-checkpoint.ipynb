{
 "cells": [
  {
   "cell_type": "code",
   "execution_count": 6,
   "id": "20c212f2-2272-4950-94bc-3dcfd473ccfd",
   "metadata": {},
   "outputs": [
    {
     "name": "stdin",
     "output_type": "stream",
     "text": [
      "Enter 35 folder names separated by commas:  Website Checker,Step Counter,Text Formatter, Character Type Checker, Grade Calculator, Word Scrambler, Music Recommender, Random Name Generator, Reverse Name, Vowel Counter, Coin Flip Game, Recipe Generator, Color Mixer, Guess The Word, Guess The Number, Countdown Timer, Calculator, Related Word Game, Memory Sequence Game, Rock Paper Scissors, Task Manager, Simple Chatbot, Word Counter,Currency Converter, Password Generator, Personal Finance Tracker, Quiz Game, Pomodoro Timer, Adventure Game, Tkinter Basics (Hello World App), Simple Calculator with Tkinter, Task Manager with Tkinter, Drawing App with Tkinter, Realtime Chat App, Contact Book Web App\n"
     ]
    },
    {
     "ename": "NameError",
     "evalue": "name 'i' is not defined",
     "output_type": "error",
     "traceback": [
      "\u001b[1;31m---------------------------------------------------------------------------\u001b[0m",
      "\u001b[1;31mNameError\u001b[0m                                 Traceback (most recent call last)",
      "Cell \u001b[1;32mIn[6], line 30\u001b[0m\n\u001b[0;32m     28\u001b[0m     \u001b[38;5;28mprint\u001b[39m(\u001b[38;5;124mf\u001b[39m\u001b[38;5;124m\"\u001b[39m\u001b[38;5;124m❌ You entered \u001b[39m\u001b[38;5;132;01m{\u001b[39;00m\u001b[38;5;28mlen\u001b[39m(folder_list)\u001b[38;5;132;01m}\u001b[39;00m\u001b[38;5;124m names. Please enter exactly 35.\u001b[39m\u001b[38;5;124m\"\u001b[39m)\n\u001b[0;32m     29\u001b[0m \u001b[38;5;28;01melse\u001b[39;00m:\n\u001b[1;32m---> 30\u001b[0m     \u001b[43mcreate_custom_named_folders\u001b[49m\u001b[43m(\u001b[49m\u001b[43mfolder_list\u001b[49m\u001b[43m)\u001b[49m\n",
      "Cell \u001b[1;32mIn[6], line 18\u001b[0m, in \u001b[0;36mcreate_custom_named_folders\u001b[1;34m(folder_names)\u001b[0m\n\u001b[0;32m     16\u001b[0m \u001b[38;5;28;01mif\u001b[39;00m folder_name:\n\u001b[0;32m     17\u001b[0m     os\u001b[38;5;241m.\u001b[39mmakedirs(folder_name, exist_ok\u001b[38;5;241m=\u001b[39m\u001b[38;5;28;01mTrue\u001b[39;00m)\n\u001b[1;32m---> 18\u001b[0m     file_path \u001b[38;5;241m=\u001b[39m os\u001b[38;5;241m.\u001b[39mpath\u001b[38;5;241m.\u001b[39mjoin(\u001b[38;5;124mf\u001b[39m\u001b[38;5;124m\"\u001b[39m\u001b[38;5;132;01m{\u001b[39;00m\u001b[43mi\u001b[49m\u001b[38;5;132;01m}\u001b[39;00m\u001b[38;5;124m. \u001b[39m\u001b[38;5;124m\"\u001b[39m\u001b[38;5;241m+\u001b[39mfolder_name, \u001b[38;5;124m\"\u001b[39m\u001b[38;5;124mmain.py\u001b[39m\u001b[38;5;124m\"\u001b[39m)\n\u001b[0;32m     19\u001b[0m     \u001b[38;5;28;01mwith\u001b[39;00m \u001b[38;5;28mopen\u001b[39m(file_path, \u001b[38;5;124m\"\u001b[39m\u001b[38;5;124mw\u001b[39m\u001b[38;5;124m\"\u001b[39m) \u001b[38;5;28;01mas\u001b[39;00m f:\n\u001b[0;32m     20\u001b[0m         f\u001b[38;5;241m.\u001b[39mwrite(starter_code)\n",
      "\u001b[1;31mNameError\u001b[0m: name 'i' is not defined"
     ]
    }
   ],
   "source": [
    "import os\n",
    "\n",
    "def create_custom_named_folders(folder_names):\n",
    "    starter_code = '''\"\"\"\n",
    "main.py - Starter script\n",
    "\"\"\"\n",
    "\n",
    "def main():\n",
    "    print(\"This is the main script.\")\n",
    "\n",
    "if __name__ == \"__main__\":\n",
    "    main()\n",
    "'''\n",
    "    i = 0\n",
    "    for name in folder_names:\n",
    "        folder_name = name.strip()\n",
    "        if folder_name:\n",
    "            os.makedirs(folder_name, exist_ok=True)\n",
    "            file_path = os.path.join(f\"{i}. \"+folder_name, \"main.py\")\n",
    "            with open(file_path, \"w\") as f:\n",
    "                f.write(starter_code)\n",
    "        i += 1\n",
    "    print(\"✅ All folders and main.py files created with starter code.\")\n",
    "\n",
    "if __name__ == \"__main__\":\n",
    "    folder_input = input(\"Enter 35 folder names separated by commas: \")\n",
    "    folder_list = folder_input.split(',')\n",
    "\n",
    "    if len(folder_list) != 35:\n",
    "        print(f\"❌ You entered {len(folder_list)} names. Please enter exactly 35.\")\n",
    "    else:\n",
    "        create_custom_named_folders(folder_list)\n"
   ]
  },
  {
   "cell_type": "code",
   "execution_count": null,
   "id": "19a49395-9ee1-4257-8582-d8cb36bcef1c",
   "metadata": {},
   "outputs": [],
   "source": [
    "Website Checker,Step Counter,Text Formatter, Character Type Checker, Grade Calculator, Word Scrambler, Music Recommender, Random Name Generator, Reverse Name, Vowel Counter, Coin Flip Game, Recipe Generator, Color Mixer, Guess The Word, Guess The Number, Countdown Timer, Calculator, Related Word Game, Memory Sequence Game, Rock Paper Scissors, Task Manager, Simple Chatbot, Word Counter,Currency Converter, Password Generator, Personal Finance Tracker, Quiz Game, Pomodoro Timer, Adventure Game, Tkinter Basics (Hello World App), Simple Calculator with Tkinter, Task Manager with Tkinter, Drawing App with Tkinter, Realtime Chat App, Contact Book Web App"
   ]
  }
 ],
 "metadata": {
  "kernelspec": {
   "display_name": "Python 3 (ipykernel)",
   "language": "python",
   "name": "python3"
  },
  "language_info": {
   "codemirror_mode": {
    "name": "ipython",
    "version": 3
   },
   "file_extension": ".py",
   "mimetype": "text/x-python",
   "name": "python",
   "nbconvert_exporter": "python",
   "pygments_lexer": "ipython3",
   "version": "3.12.1"
  }
 },
 "nbformat": 4,
 "nbformat_minor": 5
}
